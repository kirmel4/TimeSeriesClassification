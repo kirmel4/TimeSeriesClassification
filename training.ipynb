{
 "cells": [
  {
   "cell_type": "code",
   "execution_count": 2,
   "metadata": {},
   "outputs": [],
   "source": [
    "import pandas as pd\n",
    "from tqdm import tqdm\n",
    "from tsfresh.utilities.dataframe_functions import impute\n",
    "\n",
    "def preprocess(data_path, samples):\n",
    "\n",
    "    data = pd.read_parquet(data_path)[:samples]\n",
    "    data = data.sort_values('id').reset_index(drop = True)\n",
    "    if 'train' in data_path:\n",
    "        y = data.set_index('id')['label']\n",
    "        X_dict = {'id': [], 'dates' : [], 'values': [], 'label': []}\n",
    "    else: \n",
    "        X_dict = {'id': [], 'dates' : [], 'values': []}\n",
    "\n",
    "    for i in tqdm(range(len(data))):\n",
    "        for j in range(len(data.iloc[i]['dates'])):\n",
    "            X_dict['id'].append(data.iloc[i]['id'])\n",
    "            X_dict['dates'].append(data.iloc[i]['dates'][j])\n",
    "            X_dict['values'].append(data.iloc[i]['values'][j])\n",
    "            try:\n",
    "                X_dict['label'].append(data.iloc[i]['label'])\n",
    "            except Exception:\n",
    "                continue\n",
    "\n",
    "    X = pd.DataFrame(X_dict)\n",
    "\n",
    "    if 'train' in data_path:\n",
    "        X.to_parquet('train_preprocessed.parquet')\n",
    "        return X, y\n",
    "\n",
    "    else:\n",
    "        X.to_parquet('test_preprocessed.parquet')\n",
    "        return X"
   ]
  },
  {
   "cell_type": "markdown",
   "metadata": {},
   "source": [
    "#### Из-за ограничений в вычислительных мощностях берём только 2000 сэмплов"
   ]
  },
  {
   "cell_type": "code",
   "execution_count": 4,
   "metadata": {},
   "outputs": [
    {
     "name": "stderr",
     "output_type": "stream",
     "text": [
      "100%|██████████| 2000/2000 [00:16<00:00, 117.82it/s]\n"
     ]
    }
   ],
   "source": [
    "X_train, y_train = preprocess('./train.parquet', 2000)\n",
    "X_test = preprocess('./test.parquet', 20000)"
   ]
  },
  {
   "cell_type": "code",
   "execution_count": 5,
   "metadata": {},
   "outputs": [],
   "source": [
    "X_train = pd.read_parquet('./train_preprocessed.parquet')\n",
    "X_test = pd.read_parquet('./test_preprocessed.parquet')"
   ]
  },
  {
   "cell_type": "markdown",
   "metadata": {},
   "source": [
    "#### Также мы имеем пропуски в данных, о пририроде которых мы не знаем ничего, поэтому заполним их распространением вперед"
   ]
  },
  {
   "cell_type": "code",
   "execution_count": 6,
   "metadata": {},
   "outputs": [
    {
     "name": "stdout",
     "output_type": "stream",
     "text": [
      "id         0\n",
      "dates      0\n",
      "values    93\n",
      "label      0\n",
      "dtype: int64\n",
      "id           0\n",
      "dates        0\n",
      "values    1079\n",
      "dtype: int64\n"
     ]
    }
   ],
   "source": [
    "print(X_train.isnull().sum())\n",
    "print(X_test.isnull().sum())"
   ]
  },
  {
   "cell_type": "code",
   "execution_count": 7,
   "metadata": {},
   "outputs": [],
   "source": [
    "X_train.fillna(method='ffill', inplace=True)\n",
    "X_test.fillna(method='ffill', inplace=True)"
   ]
  },
  {
   "cell_type": "markdown",
   "metadata": {},
   "source": [
    "#### Делим выборку на тренировочную и валидационную"
   ]
  },
  {
   "cell_type": "code",
   "execution_count": 8,
   "metadata": {},
   "outputs": [],
   "source": [
    "X_train, X_valid, y_tr, y_val = X_train[['id','dates', 'values']][:70000], X_train[['id','dates', 'values']][70000:], X_train['label'][:70000], X_train['label'][70000:]"
   ]
  },
  {
   "cell_type": "code",
   "execution_count": 9,
   "metadata": {},
   "outputs": [
    {
     "name": "stderr",
     "output_type": "stream",
     "text": [
      "Feature Extraction: 100%|██████████| 39/39 [00:07<00:00,  4.97it/s]\n",
      "Feature Extraction: 100%|██████████| 40/40 [00:07<00:00,  5.65it/s]\n"
     ]
    }
   ],
   "source": [
    "from tsfresh import extract_features\n",
    "\n",
    "X_train_features = extract_features(X_train, column_id='id', column_sort='dates', impute_function=impute)\n",
    "X_valid_features = extract_features(X_valid, column_id='id', column_sort='dates', impute_function=impute)"
   ]
  },
  {
   "cell_type": "code",
   "execution_count": 10,
   "metadata": {},
   "outputs": [],
   "source": [
    "y_tr = y_train[:len(X_train_features)]\n",
    "y_val = y_train[len(X_train_features): len(X_train_features) + len(X_valid_features)]"
   ]
  },
  {
   "cell_type": "markdown",
   "metadata": {},
   "source": [
    "#### Отбираем фичи на трейне и проверяем на валидации, чтобы не было лика данных"
   ]
  },
  {
   "cell_type": "code",
   "execution_count": 11,
   "metadata": {},
   "outputs": [],
   "source": [
    "from tsfresh import select_features\n",
    "\n",
    "X_train_filtered = select_features(X_train_features, y_tr)\n",
    "X_valid_filtered = X_valid_features[X_train_filtered.columns][1:]"
   ]
  },
  {
   "cell_type": "code",
   "execution_count": 12,
   "metadata": {},
   "outputs": [],
   "source": [
    "from xgboost import XGBClassifier\n",
    "\n",
    "clf = XGBClassifier()\n",
    "clf.fit(X_train_filtered, y_tr)\n",
    "pred = clf.predict_proba(X_valid_filtered)"
   ]
  },
  {
   "cell_type": "code",
   "execution_count": 13,
   "metadata": {},
   "outputs": [],
   "source": [
    "from sklearn.metrics import roc_auc_score, f1_score, recall_score, precision_score, roc_curve\n",
    "import matplotlib.pyplot as plt\n",
    "\n",
    "def plot_roc_curve(fpr, tpr):\n",
    "    plt.plot(fpr, tpr, color='orange', label='ROC')\n",
    "    plt.plot([0, 1], [0, 1], color='darkblue', linestyle='--')\n",
    "    plt.xlabel('False Positive Rate')\n",
    "    plt.ylabel('True Positive Rate')\n",
    "    plt.title('Receiver Operating Characteristic (ROC) Curve')\n",
    "    plt.legend()\n",
    "    plt.show()\n",
    "\n",
    "def get_metrics(target : list, pred: list):\n",
    "    print(f'roc-auc score: {roc_auc_score(target, pred)}')\n",
    "    print(f'recall: {recall_score(target, pred)}')\n",
    "    print(f'precision: {precision_score(target, pred)}')\n",
    "    print(f'f1: {f1_score(target, pred)}')"
   ]
  },
  {
   "cell_type": "code",
   "execution_count": 14,
   "metadata": {},
   "outputs": [
    {
     "name": "stdout",
     "output_type": "stream",
     "text": [
      "0.8656295057734482\n",
      "Threshold value is: 0.23686714\n"
     ]
    },
    {
     "data": {
      "image/png": "[encoded data removed]",
      "text/plain": [
       "<Figure size 640x480 with 1 Axes>"
      ]
     },
     "metadata": {},
     "output_type": "display_data"
    },
    {
     "name": "stdout",
     "output_type": "stream",
     "text": [
      "roc-auc score: 0.7780584735802649\n",
      "recall: 0.6991869918699187\n",
      "precision: 0.6417910447761194\n",
      "f1: 0.6692607003891051\n"
     ]
    }
   ],
   "source": [
    "import numpy as np\n",
    "\n",
    "fpr, tpr, thresholds = roc_curve(y_val[:], pred[:,1])\n",
    "print(roc_auc_score(y_val[:], pred[:,1]))\n",
    "optimal_idx = np.argmax(tpr - fpr)\n",
    "optimal_threshold = thresholds[optimal_idx]\n",
    "print(\"Threshold value is:\", optimal_threshold)\n",
    "plot_roc_curve(fpr, tpr)\n",
    "get_metrics(y_val[:], pred[:,1]>=optimal_threshold)"
   ]
  },
  {
   "cell_type": "code",
   "execution_count": 15,
   "metadata": {},
   "outputs": [
    {
     "name": "stderr",
     "output_type": "stream",
     "text": [
      "Feature Extraction: 100%|██████████| 40/40 [02:27<00:00,  3.69s/it]\n"
     ]
    }
   ],
   "source": [
    "X_test_features = extract_features(X_test, column_id='id', column_sort='dates', impute_function=impute)\n",
    "X_test_filtered = X_test_features[X_train_filtered.columns]\n",
    "X_test_filtered.to_parquet('X_test_filtered.parquet')"
   ]
  },
  {
   "cell_type": "code",
   "execution_count": 16,
   "metadata": {},
   "outputs": [],
   "source": [
    "clf.save_model('clf.json')"
   ]
  }
 ],
 "metadata": {
  "kernelspec": {
   "display_name": ".venv",
   "language": "python",
   "name": "python3"
  },
  "language_info": {
   "codemirror_mode": {
    "name": "ipython",
    "version": 3
   },
   "file_extension": ".py",
   "mimetype": "text/x-python",
   "name": "python",
   "nbconvert_exporter": "python",
   "pygments_lexer": "ipython3",
   "version": "3.8.16"
  }
 },
 "nbformat": 4,
 "nbformat_minor": 2
}
